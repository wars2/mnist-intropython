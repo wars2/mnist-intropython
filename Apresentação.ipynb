{
 "cells": [
  {
   "cell_type": "markdown",
   "metadata": {},
   "source": [
    "<html><font face=\"Courier New\"><head><h1><b>Projeto 2<br>Aprendizado de máquina: reconhecimento de números</b></h1></head><br>\n",
    "<body>\n",
    "<h1>Introdução</h1><br>\n",
    "<font size=\"3\">\n",
    "A grosso modo, Machine Learning, ou aprendizagem de máquina, é uma importante área da inteligência artificial onde é possível criar algoritmos para ensinar uma máquina a desempenhar tarefas.\n",
    "\n",
    "Pega-se um conjunto de dados de entrada e com base em determinados padrões encontrados gera-se saídas das quais podem ser usadas para reconhecimento de números, caracteres, imagens, reconhecimento facial, etc...\n",
    "\n",
    "<h1>Conceitos</h1><br>\n",
    "As redes neurais artificiais são baseadas nas tentativas de simular o sistema nervoso humano no que se refere a sua capacidade de aprender e de se adaptar, em outras palavras, uma simulação muito simplificada da operação do cérebro humano. Estas redes neurais artificiais são constituídas de neurônios artificiais (Figura 1).\n",
    "\n",
    "<img src=\"https://github.com/wars2/mnist-intropython/blob/reconhecimento/Imagens/neuron.png\" align=\"center\"></img>\n",
    "\n",
    "<font size=\"2\"><center>Figura 1 - Diagramação de um neurônio artificial.</center></font>\n",
    "\n",
    "A estrutura de um neurônio pode ser representada como uma composição das seguintes unidades:\n",
    "* Entradas: <b>Xi,...,Xn</b>;\n",
    "\n",
    "* Pesos: <b>Wi,...,Wn</b>;\n",
    "\n",
    "* Função de transferência: <b>$\\sum$</b>;\n",
    "\n",
    "* Entrada de rede de um neurônio: <b>NET</b>;\n",
    "\n",
    "* Função de ativação: <b>F(x)</b>;\n",
    "\n",
    "* Saída: <b>Out.</b>\n",
    "\n",
    "\n",
    "</font></body></font></html>"
   ]
  },
  {
   "cell_type": "code",
   "execution_count": null,
   "metadata": {},
   "outputs": [],
   "source": []
  }
 ],
 "metadata": {
  "kernelspec": {
   "display_name": "Python 3",
   "language": "python",
   "name": "python3"
  },
  "language_info": {
   "codemirror_mode": {
    "name": "ipython",
    "version": 3
   },
   "file_extension": ".py",
   "mimetype": "text/x-python",
   "name": "python",
   "nbconvert_exporter": "python",
   "pygments_lexer": "ipython3",
   "version": "3.7.3"
  }
 },
 "nbformat": 4,
 "nbformat_minor": 2
}
